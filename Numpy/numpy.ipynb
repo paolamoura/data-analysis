{
 "cells": [
  {
   "cell_type": "code",
   "execution_count": 1,
   "id": "cc9e8656-7101-4b32-a723-aa4c4134d134",
   "metadata": {},
   "outputs": [],
   "source": [
    "import numpy as np"
   ]
  },
  {
   "cell_type": "code",
   "execution_count": 8,
   "id": "9b627867-0dcc-46b3-ae8c-815bdb73982e",
   "metadata": {},
   "outputs": [
    {
     "name": "stdout",
     "output_type": "stream",
     "text": [
      "[1 2 3]\n"
     ]
    }
   ],
   "source": [
    "# Criando Array 1D.\n",
    "\n",
    "d1 = np.array([1, 2, 3])\n",
    "print (d1)"
   ]
  },
  {
   "cell_type": "code",
   "execution_count": 9,
   "id": "5eb67522-6c53-4d29-89c2-7dfef371b416",
   "metadata": {},
   "outputs": [
    {
     "data": {
      "text/plain": [
       "(3,)"
      ]
     },
     "execution_count": 9,
     "metadata": {},
     "output_type": "execute_result"
    }
   ],
   "source": [
    "# Verificação do tamanho do Array.\n",
    "\n",
    "d1.shape # Informa que o formato é 3 (representando a quantidade de índices) e nada no final."
   ]
  },
  {
   "cell_type": "code",
   "execution_count": 10,
   "id": "ce36a360-3526-4866-8534-d675979dd805",
   "metadata": {},
   "outputs": [
    {
     "data": {
      "text/plain": [
       "1"
      ]
     },
     "execution_count": 10,
     "metadata": {},
     "output_type": "execute_result"
    }
   ],
   "source": [
    "# Verificação da dimensão do Array.\n",
    "\n",
    "d1.ndim # Informa que o número de dimensões é 1."
   ]
  },
  {
   "cell_type": "code",
   "execution_count": 11,
   "id": "1714c5f2-0a54-41d2-b87d-1390ac509c30",
   "metadata": {},
   "outputs": [
    {
     "data": {
      "text/plain": [
       "dtype('int64')"
      ]
     },
     "execution_count": 11,
     "metadata": {},
     "output_type": "execute_result"
    }
   ],
   "source": [
    "# Verificação do tipo do Array.\n",
    "\n",
    "d1.dtype"
   ]
  },
  {
   "cell_type": "code",
   "execution_count": 12,
   "id": "58faf3ee-83b5-4cf4-b96b-cda92b7ca1f8",
   "metadata": {},
   "outputs": [
    {
     "name": "stdout",
     "output_type": "stream",
     "text": [
      "[[1 2 3]\n",
      " [4 5 6]]\n"
     ]
    }
   ],
   "source": [
    "# Criando Array 2D.\n",
    "\n",
    "d2 = np.array([[1, 2, 3], [4, 5, 6]])\n",
    "print (d2)"
   ]
  },
  {
   "cell_type": "code",
   "execution_count": 13,
   "id": "96e61cca-8040-4aec-95e4-6d2d1a194ff2",
   "metadata": {},
   "outputs": [
    {
     "data": {
      "text/plain": [
       "(2, 3)"
      ]
     },
     "execution_count": 13,
     "metadata": {},
     "output_type": "execute_result"
    }
   ],
   "source": [
    "# Verificação do tamanho do Array.\n",
    "\n",
    "d2.shape # Informa que o formato é 2 para 3."
   ]
  },
  {
   "cell_type": "code",
   "execution_count": 14,
   "id": "3fa75c11-b0ca-40d3-a6ab-665144aa1f60",
   "metadata": {},
   "outputs": [
    {
     "data": {
      "text/plain": [
       "2"
      ]
     },
     "execution_count": 14,
     "metadata": {},
     "output_type": "execute_result"
    }
   ],
   "source": [
    "# Verificação da dimensão do Array.\n",
    "\n",
    "d2.ndim # Informa que o número de dimensões é 2."
   ]
  },
  {
   "cell_type": "code",
   "execution_count": 15,
   "id": "3aea8f12-7620-4faa-b29a-347da8d9aad7",
   "metadata": {},
   "outputs": [
    {
     "data": {
      "text/plain": [
       "dtype('int64')"
      ]
     },
     "execution_count": 15,
     "metadata": {},
     "output_type": "execute_result"
    }
   ],
   "source": [
    "# Verificação do tipo do Array.\n",
    "\n",
    "d1.dtype"
   ]
  },
  {
   "cell_type": "code",
   "execution_count": 16,
   "id": "cf14dfc5-6706-4983-af16-00a0438d6300",
   "metadata": {},
   "outputs": [
    {
     "name": "stdout",
     "output_type": "stream",
     "text": [
      "[[[1 2]\n",
      "  [3 4]]\n",
      "\n",
      " [[5 6]\n",
      "  [7 8]]]\n"
     ]
    }
   ],
   "source": [
    "# Criando Array 3D.\n",
    "\n",
    "d3 = np.array([[[1, 2], [3, 4]], [[5, 6], [7, 8]]])\n",
    "print (d3)"
   ]
  },
  {
   "cell_type": "code",
   "execution_count": 18,
   "id": "6210472b-fe9f-4112-8843-c8af93748456",
   "metadata": {},
   "outputs": [
    {
     "data": {
      "text/plain": [
       "(2, 2, 2)"
      ]
     },
     "execution_count": 18,
     "metadata": {},
     "output_type": "execute_result"
    }
   ],
   "source": [
    "# Verificação do tamanho do Array.\n",
    "\n",
    "d3.shape # Informa que o formato é de 2 por 2 por 2."
   ]
  },
  {
   "cell_type": "code",
   "execution_count": 19,
   "id": "092b917a-d4f9-494d-aa65-a7007c13ebc4",
   "metadata": {},
   "outputs": [
    {
     "data": {
      "text/plain": [
       "3"
      ]
     },
     "execution_count": 19,
     "metadata": {},
     "output_type": "execute_result"
    }
   ],
   "source": [
    "# Verificação da dimensão do Array.\n",
    "\n",
    "d3.ndim # Informa que o número de dimensões é 3."
   ]
  },
  {
   "cell_type": "code",
   "execution_count": 20,
   "id": "b85c5f22-49cb-4991-a211-239c2cb798c9",
   "metadata": {},
   "outputs": [
    {
     "data": {
      "text/plain": [
       "dtype('int64')"
      ]
     },
     "execution_count": 20,
     "metadata": {},
     "output_type": "execute_result"
    }
   ],
   "source": [
    "# Verificação do tipo do Array.\n",
    "\n",
    "d3.dtype"
   ]
  },
  {
   "cell_type": "code",
   "execution_count": 21,
   "id": "66531ce4-c8ad-4f93-83bf-e43a4f1edc6c",
   "metadata": {},
   "outputs": [
    {
     "name": "stdout",
     "output_type": "stream",
     "text": [
      "[2 4 6]\n"
     ]
    }
   ],
   "source": [
    "# Somando duas Arrays.\n",
    "\n",
    "a = np.array([1, 2, 3])\n",
    "b = np.array([1, 2, 3])\n",
    "\n",
    "result = np.add(a, b)\n",
    "print(result)"
   ]
  },
  {
   "cell_type": "code",
   "execution_count": 23,
   "id": "9bdec00b-3da1-4da1-897e-cdfaffa9626b",
   "metadata": {},
   "outputs": [
    {
     "name": "stdout",
     "output_type": "stream",
     "text": [
      "[[2 3 4 5]\n",
      " [6 7 8 9]]\n"
     ]
    }
   ],
   "source": [
    "# Selecionando itens em Arrays:\n",
    "\n",
    "c = np.array([[2, 3, 4, 5], [6, 7, 8, 9]])\n",
    "print (c)"
   ]
  },
  {
   "cell_type": "code",
   "execution_count": 24,
   "id": "57a3ee49-b701-46c3-b839-b61c772f9061",
   "metadata": {},
   "outputs": [
    {
     "data": {
      "text/plain": [
       "8"
      ]
     },
     "execution_count": 24,
     "metadata": {},
     "output_type": "execute_result"
    }
   ],
   "source": [
    "# Dado o valor do índice da linha e da coluna, retorna o valor contido. array[row, colu]\n",
    "\n",
    "c[1, 2]"
   ]
  },
  {
   "cell_type": "code",
   "execution_count": 27,
   "id": "d6b466a7-31ca-4e35-ae32-a2622caeb4cd",
   "metadata": {},
   "outputs": [
    {
     "data": {
      "text/plain": [
       "array([2, 3, 4, 5])"
      ]
     },
     "execution_count": 27,
     "metadata": {},
     "output_type": "execute_result"
    }
   ],
   "source": [
    "# Mostrando apenas uma linha do Array e todas as colunas.\n",
    "\n",
    "c[0, :]"
   ]
  },
  {
   "cell_type": "code",
   "execution_count": 28,
   "id": "2e1de73f-ec81-4a34-a880-88ad0c1811e8",
   "metadata": {},
   "outputs": [
    {
     "data": {
      "text/plain": [
       "array([3, 7])"
      ]
     },
     "execution_count": 28,
     "metadata": {},
     "output_type": "execute_result"
    }
   ],
   "source": [
    "# Mostrando elementos de apenas uma coluna considerando todas as linhas.\n",
    "\n",
    "c[:, 1]"
   ]
  },
  {
   "cell_type": "code",
   "execution_count": null,
   "id": "e07644f7-6ce8-4989-a3a6-2d42d5040e0b",
   "metadata": {},
   "outputs": [],
   "source": []
  }
 ],
 "metadata": {
  "kernelspec": {
   "display_name": "Python 3 (ipykernel)",
   "language": "python",
   "name": "python3"
  },
  "language_info": {
   "codemirror_mode": {
    "name": "ipython",
    "version": 3
   },
   "file_extension": ".py",
   "mimetype": "text/x-python",
   "name": "python",
   "nbconvert_exporter": "python",
   "pygments_lexer": "ipython3",
   "version": "3.11.3"
  }
 },
 "nbformat": 4,
 "nbformat_minor": 5
}
